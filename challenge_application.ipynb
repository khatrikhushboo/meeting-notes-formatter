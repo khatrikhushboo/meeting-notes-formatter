{
  "nbformat": 4,
  "nbformat_minor": 0,
  "metadata": {
    "colab": {
      "provenance": []
    },
    "kernelspec": {
      "name": "python3",
      "display_name": "Python 3"
    },
    "language_info": {
      "name": "python"
    }
  },
  "cells": [
    {
      "cell_type": "code",
      "execution_count": 1,
      "metadata": {
        "id": "rgsn6OdHtA1n"
      },
      "outputs": [],
      "source": [
        "import re\n",
        "import google.auth\n",
        "from google.colab import auth\n",
        "from googleapiclient.discovery import build\n",
        "from googleapiclient.http import MediaFileUpload\n",
        "from google.auth.transport.requests import Request"
      ]
    },
    {
      "cell_type": "code",
      "source": [
        "# Authenticate in Google Colab\n",
        "auth.authenticate_user()\n",
        "creds, _ = google.auth.default()\n",
        "drive_service = build('drive', 'v3', credentials=creds)\n",
        "docs_service = build('docs', 'v1', credentials=creds)"
      ],
      "metadata": {
        "id": "o4gye19EtCOT"
      },
      "execution_count": 2,
      "outputs": []
    },
    {
      "cell_type": "code",
      "source": [
        "def create_google_doc(title, content):\n",
        "    document = docs_service.documents().create(body={\"title\": title}).execute()\n",
        "    doc_id = document['documentId']\n",
        "    update_doc_content(doc_id, content)\n",
        "    return f\"https://docs.google.com/document/d/{doc_id}\"\n",
        "\n",
        "def get_document_length(doc_id):\n",
        "    \"\"\"Fetch the current length of the Google Doc.\"\"\"\n",
        "    document = docs_service.documents().get(documentId=doc_id).execute()\n",
        "    return document['body']['content'][-1]['endIndex'] - 1"
      ],
      "metadata": {
        "id": "G9V6K26rtCLh"
      },
      "execution_count": 3,
      "outputs": []
    },
    {
      "cell_type": "code",
      "source": [
        "def update_doc_content(doc_id, content):\n",
        "    requests = []\n",
        "    index = 1  # Track position for inserting text\n",
        "\n",
        "    for line in content.split('\\n'):\n",
        "        if line.startswith('# '):\n",
        "            text = line.replace('# ', '') + '\\n'\n",
        "            requests.append({\n",
        "                \"insertText\": {\n",
        "                    \"location\": {\"index\": index},\n",
        "                    \"text\": text\n",
        "                }\n",
        "            })\n",
        "            index += len(text)\n",
        "            requests.append({\n",
        "                \"updateParagraphStyle\": {\n",
        "                    \"range\": {\"startIndex\": index - len(text), \"endIndex\": index},\n",
        "                    \"paragraphStyle\": {\"namedStyleType\": \"HEADING_1\"},\n",
        "                    \"fields\": \"namedStyleType\"\n",
        "                }\n",
        "            })\n",
        "\n",
        "        elif line.startswith('## '):\n",
        "            text = line.replace('## ', '') + '\\n'\n",
        "            requests.append({\n",
        "                \"insertText\": {\n",
        "                    \"location\": {\"index\": index},\n",
        "                    \"text\": text\n",
        "                }\n",
        "            })\n",
        "            index += len(text)\n",
        "            requests.append({\n",
        "                \"updateParagraphStyle\": {\n",
        "                    \"range\": {\"startIndex\": index - len(text), \"endIndex\": index},\n",
        "                    \"paragraphStyle\": {\"namedStyleType\": \"HEADING_2\"},\n",
        "                    \"fields\": \"namedStyleType\"\n",
        "                }\n",
        "            })\n",
        "\n",
        "        elif line.startswith('### '):\n",
        "            text = line.replace('### ', '') + '\\n'\n",
        "            requests.append({\n",
        "                \"insertText\": {\n",
        "                    \"location\": {\"index\": index},\n",
        "                    \"text\": text\n",
        "                }\n",
        "            })\n",
        "            index += len(text)\n",
        "            requests.append({\n",
        "                \"updateParagraphStyle\": {\n",
        "                    \"range\": {\"startIndex\": index - len(text), \"endIndex\": index},\n",
        "                    \"paragraphStyle\": {\"namedStyleType\": \"HEADING_3\"},\n",
        "                    \"fields\": \"namedStyleType\"\n",
        "                }\n",
        "            })\n",
        "\n",
        "        elif re.match(r'- \\[ \\] @\\w+', line):\n",
        "            # Replace markdown checkbox with Unicode checkbox\n",
        "            text = '☐ ' + line.replace('- [ ]', '').strip() + '\\n'\n",
        "            requests.append({\n",
        "                \"insertText\": {\n",
        "                    \"location\": {\"index\": index},\n",
        "                    \"text\": text\n",
        "                }\n",
        "            })\n",
        "            index += len(text)\n",
        "\n",
        "            # Bold the mention (@name)\n",
        "            mention_match = re.search(r'(@\\w+)', text)\n",
        "            if mention_match:\n",
        "                mention_start = index - len(text) + text.find(mention_match.group(0))\n",
        "                mention_end = mention_start + len(mention_match.group(0))\n",
        "                requests.append({\n",
        "                    \"updateTextStyle\": {\n",
        "                        \"range\": {\n",
        "                            \"startIndex\": mention_start,\n",
        "                            \"endIndex\": mention_end\n",
        "                        },\n",
        "                        \"textStyle\": {\n",
        "                            \"bold\": True\n",
        "                        },\n",
        "                        \"fields\": \"bold\"\n",
        "                    }\n",
        "                })\n",
        "\n",
        "        elif re.match(r'- @\\w+', line):\n",
        "            text = line + '\\n'\n",
        "            requests.append({\n",
        "                \"insertText\": {\n",
        "                    \"location\": {\"index\": index},\n",
        "                    \"text\": text\n",
        "                }\n",
        "            })\n",
        "            index += len(text)\n",
        "            requests.append({\n",
        "                \"updateTextStyle\": {\n",
        "                    \"range\": {\"startIndex\": index - len(text), \"endIndex\": index},\n",
        "                    \"textStyle\": {\"bold\": True},\n",
        "                    \"fields\": \"bold\"\n",
        "                }\n",
        "            })\n",
        "\n",
        "        else:\n",
        "            text = line + '\\n'\n",
        "            requests.append({\n",
        "                \"insertText\": {\n",
        "                    \"location\": {\"index\": index},\n",
        "                    \"text\": text\n",
        "                }\n",
        "            })\n",
        "            index += len(text)\n",
        "\n",
        "    # Execute the requests in batch\n",
        "    docs_service.documents().batchUpdate(documentId=doc_id, body={'requests': requests}).execute()\n"
      ],
      "metadata": {
        "id": "aeq0rhMo95bD"
      },
      "execution_count": 14,
      "outputs": []
    },
    {
      "cell_type": "code",
      "source": [
        "markdown_content = '''# Product Team Sync - May 15, 2023\n",
        "\n",
        "## Attendees\n",
        "- Sarah Chen (Product Lead)\n",
        "- Mike Johnson (Engineering)\n",
        "- Anna Smith (Design)\n",
        "- David Park (QA)\n",
        "\n",
        "## Agenda\n",
        "\n",
        "### 1. Sprint Review\n",
        "  * Completed Features\n",
        "  * User authentication flow\n",
        "  * Dashboard redesign\n",
        "  * Performance optimization\n",
        "  * Reduced load time by 40%\n",
        "  * Implemented caching solution\n",
        "  * Pending Items\n",
        "  * Mobile responsive fixes\n",
        "  * Beta testing feedback integration\n",
        "\n",
        "\n",
        "### 2. Current Challenges\n",
        "  * Resource constraints in QA team\n",
        "  * Third-party API integration delays\n",
        "  * User feedback on new UI\n",
        "  * Navigation confusion\n",
        "  * Color contrast issues\n",
        "\n",
        "### 3. Next Sprint Planning\n",
        "  * Priority Features\n",
        "  * Payment gateway integration\n",
        "  * User profile enhancement\n",
        "  * Analytics dashboard\n",
        "  * Technical Debt\n",
        "  * Code refactoring\n",
        "  * Documentation updates\n",
        "\n",
        "\n",
        "\n",
        "## Action Items\n",
        "- [ ] @sarah: Finalize Q3 roadmap by Friday\n",
        "- [ ] @mike: Schedule technical review for payment integration\n",
        "- [ ] @anna: Share updated design system documentation\n",
        "- [ ] @david: Prepare QA resource allocation proposal\n",
        "\n",
        "## Next Steps\n",
        "* Schedule individual team reviews\n",
        "* Update sprint board\n",
        "* Share meeting summary with stakeholders\n",
        "\n",
        "## Notes\n",
        "* Next sync scheduled for May 22, 2023\n",
        "* Platform demo for stakeholders on May 25\n",
        "* Remember to update JIRA tickets\n",
        "\n",
        "---\n",
        "Meeting recorded by: Sarah Chen\n",
        "Duration: 45 minutes\n",
        "'''"
      ],
      "metadata": {
        "id": "k6LwAejNtCA9"
      },
      "execution_count": 15,
      "outputs": []
    },
    {
      "cell_type": "code",
      "source": [
        "doc_url = create_google_doc(\"Meeting Notes\", markdown_content)"
      ],
      "metadata": {
        "id": "qFomlYpjuBNl"
      },
      "execution_count": 16,
      "outputs": []
    },
    {
      "cell_type": "code",
      "source": [
        "print(f\"Google Doc created: {doc_url}\")"
      ],
      "metadata": {
        "colab": {
          "base_uri": "https://localhost:8080/"
        },
        "id": "2rHgtighuF30",
        "outputId": "33813f3d-43fc-4743-d5b8-3adc23a168e0"
      },
      "execution_count": 17,
      "outputs": [
        {
          "output_type": "stream",
          "name": "stdout",
          "text": [
            "Google Doc created: https://docs.google.com/document/d/1fL1Fg-8jb6Ix5JZLYiulIYcfHhUNnAwhddvmNsRO71U\n"
          ]
        }
      ]
    },
    {
      "cell_type": "code",
      "source": [],
      "metadata": {
        "id": "FNVMnnDH9h8l"
      },
      "execution_count": 7,
      "outputs": []
    }
  ]
}